{
 "cells": [
  {
   "attachments": {},
   "cell_type": "markdown",
   "metadata": {},
   "source": [
    "https://tekore.readthedocs.io/en/stable/reference/client.html#playlist-api\n",
    "\n",
    "\n",
    "* Spotify.playlist_change_details: Change a playlist's details.\n",
    "* Spotify.playlists: Get a list of the playlists owned or followed by a user.\n",
    "* Spotify.playlist_cover_image: Get cover image of a playlist.\n",
    "* Spotify.playlist_cover_image_upload: Upload a custom playlist cover image.\n",
    "* Spotify.playlist_items: Full details of items on a playlist.\n"
   ]
  },
  {
   "cell_type": "code",
   "execution_count": null,
   "metadata": {},
   "outputs": [],
   "source": [
    "import tekore as tk\n",
    "conf = tk.config_from_environment()\n",
    "token = tk.prompt_for_user_token(*conf)\n",
    "spotify = tk.Spotify(token)\n"
   ]
  },
  {
   "cell_type": "code",
   "execution_count": 17,
   "metadata": {},
   "outputs": [
    {
     "data": {
      "text/plain": [
       "PrivateUser with fields:\n",
       "  birthday = None\n",
       "  country = None\n",
       "  display_name = 'gingerale3'\n",
       "  email = None\n",
       "  explicit_content = None\n",
       "  external_urls = {'spotify'}\n",
       "  followers = Followers(href, total)\n",
       "  href = 'https://api.spotify.com/v1/users/gingerale3'\n",
       "  id = 'gingerale3'\n",
       "  images = [0 x Image(height, url, width)]\n",
       "  product = None\n",
       "  type = 'user'\n",
       "  uri = 'spotify:user:gingerale3'"
      ]
     },
     "execution_count": 17,
     "metadata": {},
     "output_type": "execute_result"
    }
   ],
   "source": [
    "spotify.current_user()"
   ]
  },
  {
   "cell_type": "code",
   "execution_count": 51,
   "metadata": {},
   "outputs": [],
   "source": [
    "current_user = spotify.current_user().uri"
   ]
  },
  {
   "cell_type": "code",
   "execution_count": 55,
   "metadata": {},
   "outputs": [
    {
     "name": "stdout",
     "output_type": "stream",
     "text": [
      "Idx 1, name: Theatre\n",
      "height: 640, width: 640, url: https://i.scdn.co/image/ab67616d0000b273f3eaae22e1c6b26400073c05\n",
      "---------------------------\n",
      "Idx 2, name: London is here '23\n",
      "height: 640, width: 640, url: https://mosaic.scdn.co/640/ab67616d0000b2733d5e685a60c0d77ea57e35d5ab67616d0000b2734aac4533cf8f548969661286ab67616d0000b27364f8c2a5d5e9778175df9566ab67616d0000b2736d6cc2f5ef88a7a052b65592\n",
      "height: 300, width: 300, url: https://mosaic.scdn.co/300/ab67616d0000b2733d5e685a60c0d77ea57e35d5ab67616d0000b2734aac4533cf8f548969661286ab67616d0000b27364f8c2a5d5e9778175df9566ab67616d0000b2736d6cc2f5ef88a7a052b65592\n",
      "height: 60, width: 60, url: https://mosaic.scdn.co/60/ab67616d0000b2733d5e685a60c0d77ea57e35d5ab67616d0000b2734aac4533cf8f548969661286ab67616d0000b27364f8c2a5d5e9778175df9566ab67616d0000b2736d6cc2f5ef88a7a052b65592\n",
      "---------------------------\n",
      "Idx 3, name: Her\n",
      "height: 640, width: 640, url: https://mosaic.scdn.co/640/ab67616d0000b273678bfbaf23b8dfa454017b0bab67616d0000b2736c080761277b0f046b7f7e66ab67616d0000b273825ae6a0cd7d814c168c8d67ab67616d0000b273fb40b09370788a1c2e74c5b0\n",
      "height: 300, width: 300, url: https://mosaic.scdn.co/300/ab67616d0000b273678bfbaf23b8dfa454017b0bab67616d0000b2736c080761277b0f046b7f7e66ab67616d0000b273825ae6a0cd7d814c168c8d67ab67616d0000b273fb40b09370788a1c2e74c5b0\n",
      "height: 60, width: 60, url: https://mosaic.scdn.co/60/ab67616d0000b273678bfbaf23b8dfa454017b0bab67616d0000b2736c080761277b0f046b7f7e66ab67616d0000b273825ae6a0cd7d814c168c8d67ab67616d0000b273fb40b09370788a1c2e74c5b0\n",
      "---------------------------\n",
      "Idx 4, name: Best discover weekly all time\n",
      "height: 640, width: 640, url: https://mosaic.scdn.co/640/ab67616d0000b27319d6792248b5e72341c71367ab67616d0000b273d52db438d226ab2a67f9fb84ab67616d0000b273e02102e71a41d1e6c18db31aab67616d0000b273e94bcdf1c7b684417d75db68\n",
      "height: 300, width: 300, url: https://mosaic.scdn.co/300/ab67616d0000b27319d6792248b5e72341c71367ab67616d0000b273d52db438d226ab2a67f9fb84ab67616d0000b273e02102e71a41d1e6c18db31aab67616d0000b273e94bcdf1c7b684417d75db68\n",
      "height: 60, width: 60, url: https://mosaic.scdn.co/60/ab67616d0000b27319d6792248b5e72341c71367ab67616d0000b273d52db438d226ab2a67f9fb84ab67616d0000b273e02102e71a41d1e6c18db31aab67616d0000b273e94bcdf1c7b684417d75db68\n",
      "---------------------------\n",
      "Idx 5, name: 2021 Have Fun\n",
      "height: 640, width: 640, url: https://mosaic.scdn.co/640/ab67616d0000b2736ade48bf77d9822fcb04b7c5ab67616d0000b273aac965b52ad3622bd7da4b16ab67616d0000b273f274c546fa070ab99f1fdec8ab67616d0000b273f7c123d06f12a222f91da2a4\n",
      "height: 300, width: 300, url: https://mosaic.scdn.co/300/ab67616d0000b2736ade48bf77d9822fcb04b7c5ab67616d0000b273aac965b52ad3622bd7da4b16ab67616d0000b273f274c546fa070ab99f1fdec8ab67616d0000b273f7c123d06f12a222f91da2a4\n",
      "height: 60, width: 60, url: https://mosaic.scdn.co/60/ab67616d0000b2736ade48bf77d9822fcb04b7c5ab67616d0000b273aac965b52ad3622bd7da4b16ab67616d0000b273f274c546fa070ab99f1fdec8ab67616d0000b273f7c123d06f12a222f91da2a4\n",
      "---------------------------\n",
      "Idx 6, name: HIMYM\n",
      "height: 640, width: 640, url: https://mosaic.scdn.co/640/ab67616d0000b273b3efd526a5bdd5cce82e2943ab67616d0000b273cdd6f71f3d22476a9a1319cdab67616d0000b273ded3c4e9455c059ac109989fab67616d0000b273fcfd8d2e1bb9f0d4fbe5794d\n",
      "height: 300, width: 300, url: https://mosaic.scdn.co/300/ab67616d0000b273b3efd526a5bdd5cce82e2943ab67616d0000b273cdd6f71f3d22476a9a1319cdab67616d0000b273ded3c4e9455c059ac109989fab67616d0000b273fcfd8d2e1bb9f0d4fbe5794d\n",
      "height: 60, width: 60, url: https://mosaic.scdn.co/60/ab67616d0000b273b3efd526a5bdd5cce82e2943ab67616d0000b273cdd6f71f3d22476a9a1319cdab67616d0000b273ded3c4e9455c059ac109989fab67616d0000b273fcfd8d2e1bb9f0d4fbe5794d\n",
      "---------------------------\n",
      "Idx 7, name: Soundtracks\n",
      "height: 640, width: 640, url: https://mosaic.scdn.co/640/ab67616d0000b2731b7844a8c73c4d48f0bca1deab67616d0000b273712c76b4152918fb8d37c53dab67616d0000b273d164b0871add79a3c52f49c2ab67616d0000b273e3a0b6cbfd0bf57d5e430a56\n",
      "height: 300, width: 300, url: https://mosaic.scdn.co/300/ab67616d0000b2731b7844a8c73c4d48f0bca1deab67616d0000b273712c76b4152918fb8d37c53dab67616d0000b273d164b0871add79a3c52f49c2ab67616d0000b273e3a0b6cbfd0bf57d5e430a56\n",
      "height: 60, width: 60, url: https://mosaic.scdn.co/60/ab67616d0000b2731b7844a8c73c4d48f0bca1deab67616d0000b273712c76b4152918fb8d37c53dab67616d0000b273d164b0871add79a3c52f49c2ab67616d0000b273e3a0b6cbfd0bf57d5e430a56\n",
      "---------------------------\n",
      "Idx 8, name: 20s Vibes\n",
      "height: 640, width: 640, url: https://mosaic.scdn.co/640/ab67616d0000b273bf076bd9b8ad8facbb19f473ab67616d0000b273e1c5f3c27c3af07642491f7cab67616d0000b273eaf04d0918beff431b4a2443ab67616d0000b273f22e15ebc5567c0d72e0ce1f\n",
      "height: 300, width: 300, url: https://mosaic.scdn.co/300/ab67616d0000b273bf076bd9b8ad8facbb19f473ab67616d0000b273e1c5f3c27c3af07642491f7cab67616d0000b273eaf04d0918beff431b4a2443ab67616d0000b273f22e15ebc5567c0d72e0ce1f\n",
      "height: 60, width: 60, url: https://mosaic.scdn.co/60/ab67616d0000b273bf076bd9b8ad8facbb19f473ab67616d0000b273e1c5f3c27c3af07642491f7cab67616d0000b273eaf04d0918beff431b4a2443ab67616d0000b273f22e15ebc5567c0d72e0ce1f\n",
      "---------------------------\n",
      "Idx 9, name: Indie Favs\n",
      "height: 640, width: 640, url: https://mosaic.scdn.co/640/ab67616d0000b2736567f18f9a164a51e933cdadab67616d0000b273813c8bfec16e7a388ece0d05ab67616d0000b273b38a6a74259dccc230b9f326ab67616d0000b273f11a093d3322196862fd7ce5\n",
      "height: 300, width: 300, url: https://mosaic.scdn.co/300/ab67616d0000b2736567f18f9a164a51e933cdadab67616d0000b273813c8bfec16e7a388ece0d05ab67616d0000b273b38a6a74259dccc230b9f326ab67616d0000b273f11a093d3322196862fd7ce5\n",
      "height: 60, width: 60, url: https://mosaic.scdn.co/60/ab67616d0000b2736567f18f9a164a51e933cdadab67616d0000b273813c8bfec16e7a388ece0d05ab67616d0000b273b38a6a74259dccc230b9f326ab67616d0000b273f11a093d3322196862fd7ce5\n",
      "---------------------------\n",
      "Idx 10, name: 2019 feels\n",
      "height: 640, width: 640, url: https://mosaic.scdn.co/640/ab67616d0000b273187331e276c898d39764cc98ab67616d0000b2735b6193de4419e9ea446360e6ab67616d0000b273b38a6a74259dccc230b9f326ab67616d0000b273fa58061769472861859f9023\n",
      "height: 300, width: 300, url: https://mosaic.scdn.co/300/ab67616d0000b273187331e276c898d39764cc98ab67616d0000b2735b6193de4419e9ea446360e6ab67616d0000b273b38a6a74259dccc230b9f326ab67616d0000b273fa58061769472861859f9023\n",
      "height: 60, width: 60, url: https://mosaic.scdn.co/60/ab67616d0000b273187331e276c898d39764cc98ab67616d0000b2735b6193de4419e9ea446360e6ab67616d0000b273b38a6a74259dccc230b9f326ab67616d0000b273fa58061769472861859f9023\n",
      "---------------------------\n",
      "Idx 11, name: 2017 Indie Prime\n",
      "height: 640, width: 640, url: https://mosaic.scdn.co/640/ab67616d0000b27304b6054f94f25a4a8dedb11fab67616d0000b273219c491d9304c8af1f407fc7ab67616d0000b2738b52c6b9bc4e43d873869699ab67616d0000b273e8684fa41ee9b2a27c66f47f\n",
      "height: 300, width: 300, url: https://mosaic.scdn.co/300/ab67616d0000b27304b6054f94f25a4a8dedb11fab67616d0000b273219c491d9304c8af1f407fc7ab67616d0000b2738b52c6b9bc4e43d873869699ab67616d0000b273e8684fa41ee9b2a27c66f47f\n",
      "height: 60, width: 60, url: https://mosaic.scdn.co/60/ab67616d0000b27304b6054f94f25a4a8dedb11fab67616d0000b273219c491d9304c8af1f407fc7ab67616d0000b2738b52c6b9bc4e43d873869699ab67616d0000b273e8684fa41ee9b2a27c66f47f\n",
      "---------------------------\n",
      "Idx 13, name: Classics Vibes\n",
      "height: 640, width: 640, url: https://mosaic.scdn.co/640/ab67616d0000b273431ac6e6f393acf475730ec6ab67616d0000b2737c39dd133836c2c1c87e34d6ab67616d0000b273e319baafd16e84f0408af2a0ab67616d0000b273e464904cc3fed2b40fc55120\n",
      "height: 300, width: 300, url: https://mosaic.scdn.co/300/ab67616d0000b273431ac6e6f393acf475730ec6ab67616d0000b2737c39dd133836c2c1c87e34d6ab67616d0000b273e319baafd16e84f0408af2a0ab67616d0000b273e464904cc3fed2b40fc55120\n",
      "height: 60, width: 60, url: https://mosaic.scdn.co/60/ab67616d0000b273431ac6e6f393acf475730ec6ab67616d0000b2737c39dd133836c2c1c87e34d6ab67616d0000b273e319baafd16e84f0408af2a0ab67616d0000b273e464904cc3fed2b40fc55120\n",
      "---------------------------\n",
      "Idx 14, name: Testing 1 2 3\n",
      "height: 640, width: 640, url: https://mosaic.scdn.co/640/ab67616d0000b2734fb56ec277f5a8750863acb9ab67616d0000b2736efdd6bc8ed42c31c5321dd1ab67616d0000b273b0982aad151de3c59e30ad1aab67616d0000b273c474d5c82c212c8ae405748b\n",
      "height: 300, width: 300, url: https://mosaic.scdn.co/300/ab67616d0000b2734fb56ec277f5a8750863acb9ab67616d0000b2736efdd6bc8ed42c31c5321dd1ab67616d0000b273b0982aad151de3c59e30ad1aab67616d0000b273c474d5c82c212c8ae405748b\n",
      "height: 60, width: 60, url: https://mosaic.scdn.co/60/ab67616d0000b2734fb56ec277f5a8750863acb9ab67616d0000b2736efdd6bc8ed42c31c5321dd1ab67616d0000b273b0982aad151de3c59e30ad1aab67616d0000b273c474d5c82c212c8ae405748b\n",
      "---------------------------\n",
      "Idx 15, name: 2016 Odd Times\n",
      "height: 640, width: 640, url: https://mosaic.scdn.co/640/ab67616d0000b2733096f802fcf724f4ee8fea83ab67616d0000b2734fb56ec277f5a8750863acb9ab67616d0000b2736efdd6bc8ed42c31c5321dd1ab67616d0000b273f8edcd2de245fa49b26e9d22\n",
      "height: 300, width: 300, url: https://mosaic.scdn.co/300/ab67616d0000b2733096f802fcf724f4ee8fea83ab67616d0000b2734fb56ec277f5a8750863acb9ab67616d0000b2736efdd6bc8ed42c31c5321dd1ab67616d0000b273f8edcd2de245fa49b26e9d22\n",
      "height: 60, width: 60, url: https://mosaic.scdn.co/60/ab67616d0000b2733096f802fcf724f4ee8fea83ab67616d0000b2734fb56ec277f5a8750863acb9ab67616d0000b2736efdd6bc8ed42c31c5321dd1ab67616d0000b273f8edcd2de245fa49b26e9d22\n",
      "---------------------------\n",
      "Idx 16, name: Throwback Alt\n",
      "height: 640, width: 640, url: https://mosaic.scdn.co/640/ab67616d0000b27328933b808bfb4cbbd0385400ab67616d0000b2733d17fe2837c2f33e37296ae1ab67616d0000b273c12f9dc9c0be6b9e8a21af67ab67616d0000b273ccdddd46119a4ff53eaf1f5d\n",
      "height: 300, width: 300, url: https://mosaic.scdn.co/300/ab67616d0000b27328933b808bfb4cbbd0385400ab67616d0000b2733d17fe2837c2f33e37296ae1ab67616d0000b273c12f9dc9c0be6b9e8a21af67ab67616d0000b273ccdddd46119a4ff53eaf1f5d\n",
      "height: 60, width: 60, url: https://mosaic.scdn.co/60/ab67616d0000b27328933b808bfb4cbbd0385400ab67616d0000b2733d17fe2837c2f33e37296ae1ab67616d0000b273c12f9dc9c0be6b9e8a21af67ab67616d0000b273ccdddd46119a4ff53eaf1f5d\n",
      "---------------------------\n",
      "Idx 17, name: 2015 Birth of Indie\n",
      "height: 640, width: 640, url: https://mosaic.scdn.co/640/ab67616d0000b27300df6e340de0d67ac0dbe1a8ab67616d0000b273a0de6adbd3b77012df897994ab67616d0000b273a970b73f34155a90e04d6414ab67616d0000b273c26f1b7e86c1956c1734079e\n",
      "height: 300, width: 300, url: https://mosaic.scdn.co/300/ab67616d0000b27300df6e340de0d67ac0dbe1a8ab67616d0000b273a0de6adbd3b77012df897994ab67616d0000b273a970b73f34155a90e04d6414ab67616d0000b273c26f1b7e86c1956c1734079e\n",
      "height: 60, width: 60, url: https://mosaic.scdn.co/60/ab67616d0000b27300df6e340de0d67ac0dbe1a8ab67616d0000b273a0de6adbd3b77012df897994ab67616d0000b273a970b73f34155a90e04d6414ab67616d0000b273c26f1b7e86c1956c1734079e\n",
      "---------------------------\n"
     ]
    }
   ],
   "source": [
    "for i, playlist in enumerate(spotify.playlists('gingerale3').items):\n",
    "    if playlist.owner.uri != spotify.current_user().uri:\n",
    "        continue\n",
    "    print(f\"Idx {i}, name: {playlist.name}\", )\n",
    "    for j in playlist.images:\n",
    "        print(f\"height: {j.height}, width: {j.width}, url: {j.url}\")\n",
    "\n",
    "    print(\"---------------------------\")"
   ]
  },
  {
   "cell_type": "code",
   "execution_count": 7,
   "metadata": {},
   "outputs": [
    {
     "name": "stdout",
     "output_type": "stream",
     "text": [
      "Opening browser for Spotify login...\n",
      "Analysing \"Timeless Frequency\" from Study / Sleep / Chill / Stream Lofi - DeadlyJimmy...\n",
      "\n",
      "AudioFeatures with fields:\n",
      "  acousticness = 0.956\n",
      "  analysis_url = 'https://api.spotify.com/v1/audio-analysis/2Q7wCNeLOaO...'\n",
      "  danceability = 0.713\n",
      "  duration_ms = 124444\n",
      "  energy = 0.101\n",
      "  id = '2Q7wCNeLOaOmHvQTogMSy2'\n",
      "  instrumentalness = 0.877\n",
      "  key = 11\n",
      "  liveness = 0.112\n",
      "  loudness = -20.348\n",
      "  mode = 1\n",
      "  speechiness = 0.067\n",
      "  tempo = 81.048\n",
      "  time_signature = 4\n",
      "  track_href = 'https://api.spotify.com/v1/tracks/2Q7wCNeLOaOmHvQTogMSy2'\n",
      "  type = 'audio_features'\n",
      "  uri = 'spotify:track:2Q7wCNeLOaOmHvQTogMSy2'\n",
      "  valence = 0.119\n"
     ]
    }
   ],
   "source": [
    "\n",
    "\n",
    "\n",
    "playlist = spotify.followed_playlists(limit=1).items[0]\n",
    "track = spotify.playlist_items(playlist.id, limit=1).items[0].track\n",
    "name = f'\"{track.name}\" from {playlist.name}'\n",
    "\n",
    "if track.episode:\n",
    "    print(f'Cannot analyse episodes!\\nGot {name}.')\n",
    "elif track.track and track.is_local:\n",
    "    print(f'Cannot analyse local tracks!\\nGot {name}.')\n",
    "else:\n",
    "    print(f'Analysing {name}...\\n')\n",
    "    analysis = spotify.track_audio_features(track.id)\n",
    "    print(repr(analysis))"
   ]
  },
  {
   "cell_type": "code",
   "execution_count": 12,
   "metadata": {},
   "outputs": [],
   "source": [
    "import asyncio\n",
    "import tekore as tk\n",
    "\n",
    "from collections import Counter\n",
    "\n",
    "def get_artist(track) -> str:\n",
    "    if track.episode:\n",
    "        return track.show.name\n",
    "    else:\n",
    "        return track.artists[0].name\n"
   ]
  },
  {
   "cell_type": "code",
   "execution_count": 11,
   "metadata": {},
   "outputs": [
    {
     "ename": "RuntimeError",
     "evalue": "asyncio.run() cannot be called from a running event loop",
     "output_type": "error",
     "traceback": [
      "\u001b[1;31m---------------------------------------------------------------------------\u001b[0m",
      "\u001b[1;31mRuntimeError\u001b[0m                              Traceback (most recent call last)",
      "\u001b[1;32m<ipython-input-11-ca202ca3a94f>\u001b[0m in \u001b[0;36m<module>\u001b[1;34m\u001b[0m\n\u001b[0;32m     17\u001b[0m \u001b[1;33m\u001b[0m\u001b[0m\n\u001b[0;32m     18\u001b[0m \u001b[1;33m\u001b[0m\u001b[0m\n\u001b[1;32m---> 19\u001b[1;33m \u001b[0martists\u001b[0m \u001b[1;33m=\u001b[0m \u001b[0masyncio\u001b[0m\u001b[1;33m.\u001b[0m\u001b[0mrun\u001b[0m\u001b[1;33m(\u001b[0m\u001b[0mmain\u001b[0m\u001b[1;33m(\u001b[0m\u001b[1;33m)\u001b[0m\u001b[1;33m)\u001b[0m\u001b[1;33m\u001b[0m\u001b[1;33m\u001b[0m\u001b[0m\n\u001b[0m\u001b[0;32m     20\u001b[0m \u001b[1;33m\u001b[0m\u001b[0m\n\u001b[0;32m     21\u001b[0m \u001b[1;32mfor\u001b[0m \u001b[0mname\u001b[0m\u001b[1;33m,\u001b[0m \u001b[0mcount\u001b[0m \u001b[1;32min\u001b[0m \u001b[0martists\u001b[0m\u001b[1;33m.\u001b[0m\u001b[0mmost_common\u001b[0m\u001b[1;33m(\u001b[0m\u001b[1;36m3\u001b[0m\u001b[1;33m)\u001b[0m\u001b[1;33m:\u001b[0m\u001b[1;33m\u001b[0m\u001b[1;33m\u001b[0m\u001b[0m\n",
      "\u001b[1;32mc:\\Users\\alexc\\anaconda3\\lib\\asyncio\\runners.py\u001b[0m in \u001b[0;36mrun\u001b[1;34m(main, debug)\u001b[0m\n\u001b[0;32m     31\u001b[0m     \"\"\"\n\u001b[0;32m     32\u001b[0m     \u001b[1;32mif\u001b[0m \u001b[0mevents\u001b[0m\u001b[1;33m.\u001b[0m\u001b[0m_get_running_loop\u001b[0m\u001b[1;33m(\u001b[0m\u001b[1;33m)\u001b[0m \u001b[1;32mis\u001b[0m \u001b[1;32mnot\u001b[0m \u001b[1;32mNone\u001b[0m\u001b[1;33m:\u001b[0m\u001b[1;33m\u001b[0m\u001b[1;33m\u001b[0m\u001b[0m\n\u001b[1;32m---> 33\u001b[1;33m         raise RuntimeError(\n\u001b[0m\u001b[0;32m     34\u001b[0m             \"asyncio.run() cannot be called from a running event loop\")\n\u001b[0;32m     35\u001b[0m \u001b[1;33m\u001b[0m\u001b[0m\n",
      "\u001b[1;31mRuntimeError\u001b[0m: asyncio.run() cannot be called from a running event loop"
     ]
    }
   ],
   "source": [
    "async def count_artists(spotify: tk.Spotify, playlist_id: str):\n",
    "    tracks = await spotify.playlist_items(playlist_id)\n",
    "    tracks = spotify.all_items(tracks)\n",
    "    return Counter([get_artist(t.track) async for t in tracks])\n",
    "\n",
    "\n",
    "async def main() -> Counter:\n",
    "    sender = tk.RetryingSender(sender=tk.AsyncSender())\n",
    "    spotify = tk.Spotify(token, sender=sender, max_limits_on=True)\n",
    "\n",
    "    playlists = await spotify.followed_playlists()\n",
    "    playlists = spotify.all_items(playlists)\n",
    "    counts = [await count_artists(spotify, p.id) async for p in playlists]\n",
    "\n",
    "    await spotify.close()\n",
    "    return sum(counts, Counter())\n",
    "\n",
    "\n",
    "artists = asyncio.run(main())\n",
    "\n",
    "for name, count in artists.most_common(3):\n",
    "    print(count, name)"
   ]
  },
  {
   "cell_type": "code",
   "execution_count": null,
   "metadata": {},
   "outputs": [],
   "source": [
    "%autoawait\n",
    "result = await my_async_function()\n"
   ]
  }
 ],
 "metadata": {
  "kernelspec": {
   "display_name": "base",
   "language": "python",
   "name": "python3"
  },
  "language_info": {
   "codemirror_mode": {
    "name": "ipython",
    "version": 3
   },
   "file_extension": ".py",
   "mimetype": "text/x-python",
   "name": "python",
   "nbconvert_exporter": "python",
   "pygments_lexer": "ipython3",
   "version": "3.8.3"
  },
  "orig_nbformat": 4
 },
 "nbformat": 4,
 "nbformat_minor": 2
}
