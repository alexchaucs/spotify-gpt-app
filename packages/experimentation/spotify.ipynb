{
 "cells": [
  {
   "attachments": {},
   "cell_type": "markdown",
   "metadata": {},
   "source": [
    "# Spotify Playlist Personalisation\n",
    "\n",
    "----"
   ]
  },
  {
   "attachments": {},
   "cell_type": "markdown",
   "metadata": {},
   "source": [
    "### 1. Set Environmental variables\n",
    "\n",
    "Use auth_example.env as a sample. Provide all 3 secrets set in your spotify developer platform\n",
    "\n",
    "* SPOTIFY_CLIENT_ID=\n",
    "* SPOTIFY_CLIENT_SECRET=\n",
    "* SPOTIFY_REDIRECT_URI=\n"
   ]
  },
  {
   "cell_type": "code",
   "execution_count": null,
   "metadata": {},
   "outputs": [],
   "source": [
    "from dotenv import load_dotenv\n",
    "\n",
    "# Load .env file\n",
    "load_dotenv()\n"
   ]
  },
  {
   "attachments": {},
   "cell_type": "markdown",
   "metadata": {},
   "source": [
    "### 2. Generate Token\n",
    "Provide call back link to generate token for use"
   ]
  },
  {
   "cell_type": "code",
   "execution_count": null,
   "metadata": {},
   "outputs": [],
   "source": [
    "import tekore as tk\n",
    "conf = tk.config_from_environment()\n",
    "token = tk.prompt_for_user_token(*conf)\n"
   ]
  },
  {
   "attachments": {},
   "cell_type": "markdown",
   "metadata": {},
   "source": [
    "### 3. Retrieving Playlist & Track Data\n",
    "\n",
    "Reference util.py for additional functionality for data pull.\n",
    "\n",
    "Utilising tekore package to interact with Spotify API.\n"
   ]
  },
  {
   "cell_type": "code",
   "execution_count": null,
   "metadata": {},
   "outputs": [],
   "source": [
    "import util\n",
    "import asyncio\n",
    "import pandas as pd\n",
    "\n",
    "async_spotify = tk.Spotify(token = token, asynchronous=True)\n",
    "uri = 'spotify:user:gingerale3'\n",
    "userID = 'gingerale3'"
   ]
  },
  {
   "cell_type": "code",
   "execution_count": null,
   "metadata": {},
   "outputs": [],
   "source": [
    "import importlib\n",
    "importlib.reload(util)"
   ]
  },
  {
   "cell_type": "code",
   "execution_count": null,
   "metadata": {},
   "outputs": [],
   "source": [
    "a = await fetch_playlists(async_spotify, userID)"
   ]
  },
  {
   "cell_type": "code",
   "execution_count": null,
   "metadata": {},
   "outputs": [],
   "source": [
    "playlist_ids = []\n",
    "for i, playlist in enumerate(a):\n",
    "    # if playlist.owner.uri != uri:\n",
    "    #     continue\n",
    "    playlist_ids.append((playlist.id, playlist.name))"
   ]
  },
  {
   "cell_type": "code",
   "execution_count": null,
   "metadata": {},
   "outputs": [],
   "source": [
    "async def get_playlist_tracks_ids(spotify, playlistID: str, playlistName: str):\n",
    "    playlistTracks = []\n",
    "    inital_response = await spotify.playlist_items(playlistID, limit = 1, offset = 0)\n",
    "    total = inital_response.total \n",
    "    playlistTracks.extend({\"playlistID\": playlistID, \"name\": playlistName, \"track\": item} for item in inital_response.items)\n",
    "    limit = 50\n",
    "    numOfCalls = (total - 1)//limit + 1\n",
    "\n",
    "    tasks = [spotify.playlist_items(playlistID, limit = limit, offset = 1 + limit * i) for i in range(numOfCalls)]\n",
    "    responses = await asyncio.gather(*tasks)\n",
    "    for response in responses:\n",
    "        playlistTracks.extend({\"playlistID\": playlistID, \"name\": playlistName, \"track\": item} for item in response.items)\n",
    "\n",
    "    return playlistTracks\n"
   ]
  },
  {
   "cell_type": "code",
   "execution_count": null,
   "metadata": {},
   "outputs": [],
   "source": [
    "playlistTracks = []\n",
    "for i in range(len(playlist_ids)//3 + 1):\n",
    "    tasks = [get_playlist_tracks_ids(async_spotify, id[0], id[1]) for id in playlist_ids[i*3:(i+1)*3]]\n",
    "    responses = await asyncio.gather(*tasks)\n",
    "    for response in responses:\n",
    "        playlistTracks.extend(response)"
   ]
  },
  {
   "cell_type": "code",
   "execution_count": null,
   "metadata": {},
   "outputs": [],
   "source": [
    "len(playlistTracks)"
   ]
  },
  {
   "cell_type": "code",
   "execution_count": null,
   "metadata": {},
   "outputs": [],
   "source": [
    "# Track id and corresponding playlist\n",
    "trackId_playlist = []\n",
    "\n",
    "for tracks in playlistTracks:\n",
    "    if tracks['track'].track.id is None:\n",
    "        continue\n",
    "    trackId_playlist.append({'playlistID': tracks['playlistID'], 'playlistName': tracks['name'], 'id': tracks['track'].track.id})"
   ]
  },
  {
   "cell_type": "code",
   "execution_count": null,
   "metadata": {},
   "outputs": [],
   "source": [
    "len(set([(tracks['playlistID'], tracks['track'].track.id)  for tracks in playlistTracks]))"
   ]
  },
  {
   "cell_type": "code",
   "execution_count": null,
   "metadata": {},
   "outputs": [],
   "source": [
    "# Get all features for tracks\n",
    "track_features = await get_tracks_audio_features(async_spotify, tracks = [track['id'] for track in trackId_playlist])\n",
    "track_features = [track.__dict__ for track in track_features if track is not None]\n",
    "track_features_df = pd.DataFrame(track_features).drop_duplicates()\n",
    "df = pd.DataFrame(trackId_playlist).merge(track_features_df, on = 'id', how = 'left')\n"
   ]
  },
  {
   "cell_type": "code",
   "execution_count": null,
   "metadata": {},
   "outputs": [],
   "source": [
    "# Add description playlist descriptions\n",
    "len(playlist_ids)"
   ]
  },
  {
   "cell_type": "code",
   "execution_count": null,
   "metadata": {},
   "outputs": [],
   "source": [
    "# Create consolidate dataframe"
   ]
  },
  {
   "cell_type": "code",
   "execution_count": null,
   "metadata": {},
   "outputs": [],
   "source": [
    "features = [\n",
    "    'acousticness', \n",
    "    'danceability',\n",
    "    'energy',\n",
    "    'instrumentalness',\n",
    "    'key',\n",
    "    'liveness',\n",
    "    'loudness',\n",
    "    'mode',\n",
    "    'speechiness',\n",
    "    'tempo',\n",
    "    'time_signature',\n",
    "    'valence'\n",
    "]\n",
    "\n",
    "df_clean = df.dropna(subset=features)\n",
    "\n",
    "# ### What if i scaled the features\n",
    "from sklearn.preprocessing import MinMaxScaler\n",
    "\n",
    "scaler = MinMaxScaler()\n",
    "df_clean[features] = scaler.fit_transform(df_clean[features])"
   ]
  },
  {
   "attachments": {},
   "cell_type": "markdown",
   "metadata": {},
   "source": [
    "### Modelling"
   ]
  },
  {
   "cell_type": "code",
   "execution_count": null,
   "metadata": {},
   "outputs": [],
   "source": [
    "df_clean"
   ]
  },
  {
   "cell_type": "code",
   "execution_count": null,
   "metadata": {},
   "outputs": [],
   "source": [
    "from sklearn.manifold import TSNE\n",
    "import matplotlib.pyplot as plt\n",
    "\n",
    "# Extract the features from the dataframe\n",
    "data_subset = df_clean[features].values\n",
    "\n",
    "# Perform t-SNE dimensionality reduction\n",
    "tsne = TSNE(n_components=2, verbose=1, perplexity=40, n_iter=300)\n",
    "tsne_results = tsne.fit_transform(data_subset)\n",
    "\n",
    "# Add the t-SNE results back into the dataframe\n",
    "df_clean['tsne-2d-one'] = tsne_results[:,0]\n",
    "df_clean['tsne-2d-two'] = tsne_results[:,1]\n",
    "\n",
    "# Create a plot\n",
    "plt.figure(figsize=(16,10))\n",
    "\n",
    "# Scatter plot for each playlist\n",
    "for playlist, group in df_clean.groupby('playlistName'):\n",
    "    plt.scatter(group['tsne-2d-one'], group['tsne-2d-two'], alpha=0.8, label=playlist)\n",
    "\n",
    "plt.legend()\n",
    "plt.title('t-SNE plot colored by playlistName')\n",
    "plt.xlabel('tsne-2d-one')\n",
    "plt.ylabel('tsne-2d-two')\n"
   ]
  },
  {
   "cell_type": "code",
   "execution_count": null,
   "metadata": {},
   "outputs": [],
   "source": [
    "playlist_ids"
   ]
  },
  {
   "cell_type": "code",
   "execution_count": null,
   "metadata": {},
   "outputs": [],
   "source": [
    "plt.figure(figsize=(16,10))\n",
    "\n",
    "# Scatter plot for each playlist\n",
    "for playlist, group in df_clean.groupby('playlistName'):\n",
    "    if playlist == \"Indie Favs\": #jazspazz + gingerale3 jason's chauffeur service\n",
    "        plt.scatter(group['tsne-2d-one'], group['tsne-2d-two'], alpha=0.8, label=playlist, color='blue', s=100)  # Change color and size\n",
    "    else:\n",
    "        plt.scatter(group['tsne-2d-one'], group['tsne-2d-two'], alpha=0.2, label=playlist)\n",
    "\n",
    "plt.legend()\n",
    "plt.title('t-SNE plot colored by playlistName')\n",
    "plt.xlabel('tsne-2d-one')\n",
    "plt.ylabel('tsne-2d-two')\n",
    "\n",
    "plt.show()\n"
   ]
  },
  {
   "cell_type": "code",
   "execution_count": null,
   "metadata": {},
   "outputs": [],
   "source": [
    "\n"
   ]
  }
 ],
 "metadata": {
  "kernelspec": {
   "display_name": "base",
   "language": "python",
   "name": "python3"
  },
  "language_info": {
   "codemirror_mode": {
    "name": "ipython",
    "version": 3
   },
   "file_extension": ".py",
   "mimetype": "text/x-python",
   "name": "python",
   "nbconvert_exporter": "python",
   "pygments_lexer": "ipython3",
   "version": "3.8.3"
  },
  "orig_nbformat": 4
 },
 "nbformat": 4,
 "nbformat_minor": 2
}
