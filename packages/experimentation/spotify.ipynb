{
 "cells": [
  {
   "attachments": {},
   "cell_type": "markdown",
   "metadata": {},
   "source": [
    "https://tekore.readthedocs.io/en/stable/reference/client.html#playlist-api\n",
    "\n",
    "\n",
    "* Spotify.playlist_change_details: Change a playlist's details.\n",
    "* Spotify.playlists: Get a list of the playlists owned or followed by a user.\n",
    "* Spotify.playlist_cover_image: Get cover image of a playlist.\n",
    "* Spotify.playlist_cover_image_upload: Upload a custom playlist cover image.\n",
    "* Spotify.playlist_items: Full details of items on a playlist.\n"
   ]
  },
  {
   "cell_type": "code",
   "execution_count": 17,
   "metadata": {},
   "outputs": [
    {
     "name": "stdout",
     "output_type": "stream",
     "text": [
      "Opening browser for Spotify login...\n"
     ]
    }
   ],
   "source": [
    "import tekore as tk\n",
    "conf = tk.config_from_environment()\n",
    "token = tk.prompt_for_user_token(*conf)\n",
    "spotify = tk.Spotify(token)\n"
   ]
  },
  {
   "cell_type": "code",
   "execution_count": null,
   "metadata": {},
   "outputs": [],
   "source": [
    "spotify.current_user()"
   ]
  },
  {
   "cell_type": "code",
   "execution_count": null,
   "metadata": {},
   "outputs": [],
   "source": [
    "current_user = spotify.current_user().uri"
   ]
  },
  {
   "cell_type": "code",
   "execution_count": null,
   "metadata": {},
   "outputs": [],
   "source": [
    "for i, playlist in enumerate(spotify.playlists('gingerale3').items):\n",
    "    if playlist.owner.uri != spotify.current_user().uri:\n",
    "        continue\n",
    "    print(f\"Idx {i}, name: {playlist.name}\", )\n",
    "    for j in playlist.images:\n",
    "        print(f\"height: {j.height}, width: {j.width}, url: {j.url}\")\n",
    "\n",
    "    print(\"---------------------------\")"
   ]
  },
  {
   "cell_type": "code",
   "execution_count": 18,
   "metadata": {},
   "outputs": [
    {
     "name": "stdout",
     "output_type": "stream",
     "text": [
      "Analysing \"Timeless Frequency\" from Study / Sleep / Chill / Stream Lofi - DeadlyJimmy...\n",
      "\n",
      "AudioFeatures with fields:\n",
      "  acousticness = 0.956\n",
      "  analysis_url = 'https://api.spotify.com/v1/audio-analysis/2Q7wCNeLOaO...'\n",
      "  danceability = 0.713\n",
      "  duration_ms = 124444\n",
      "  energy = 0.101\n",
      "  id = '2Q7wCNeLOaOmHvQTogMSy2'\n",
      "  instrumentalness = 0.877\n",
      "  key = 11\n",
      "  liveness = 0.112\n",
      "  loudness = -20.348\n",
      "  mode = 1\n",
      "  speechiness = 0.067\n",
      "  tempo = 81.048\n",
      "  time_signature = 4\n",
      "  track_href = 'https://api.spotify.com/v1/tracks/2Q7wCNeLOaOmHvQTogMSy2'\n",
      "  type = 'audio_features'\n",
      "  uri = 'spotify:track:2Q7wCNeLOaOmHvQTogMSy2'\n",
      "  valence = 0.119\n"
     ]
    }
   ],
   "source": [
    "\n",
    "\n",
    "\n",
    "playlist = spotify.followed_playlists(limit=1).items[0]\n",
    "track = spotify.playlist_items(playlist.id, limit=1).items[0].track\n",
    "name = f'\"{track.name}\" from {playlist.name}'\n",
    "\n",
    "if track.episode:\n",
    "    print(f'Cannot analyse episodes!\\nGot {name}.')\n",
    "elif track.track and track.is_local:\n",
    "    print(f'Cannot analyse local tracks!\\nGot {name}.')\n",
    "else:\n",
    "    print(f'Analysing {name}...\\n')\n",
    "    analysis = spotify.track_audio_features(track.id)\n",
    "    print(repr(analysis))"
   ]
  },
  {
   "cell_type": "code",
   "execution_count": 19,
   "metadata": {},
   "outputs": [],
   "source": [
    "import asyncio\n",
    "import tekore as tk\n",
    "\n",
    "from collections import Counter\n",
    "\n",
    "def get_artist(track) -> str:\n",
    "    if track.episode:\n",
    "        return track.show.name\n",
    "    else:\n",
    "        return track.artists[0].name\n"
   ]
  },
  {
   "cell_type": "code",
   "execution_count": 20,
   "metadata": {},
   "outputs": [
    {
     "ename": "RuntimeError",
     "evalue": "asyncio.run() cannot be called from a running event loop",
     "output_type": "error",
     "traceback": [
      "\u001b[1;31m---------------------------------------------------------------------------\u001b[0m",
      "\u001b[1;31mRuntimeError\u001b[0m                              Traceback (most recent call last)",
      "\u001b[1;32m<ipython-input-20-ca202ca3a94f>\u001b[0m in \u001b[0;36m<module>\u001b[1;34m\u001b[0m\n\u001b[0;32m     17\u001b[0m \u001b[1;33m\u001b[0m\u001b[0m\n\u001b[0;32m     18\u001b[0m \u001b[1;33m\u001b[0m\u001b[0m\n\u001b[1;32m---> 19\u001b[1;33m \u001b[0martists\u001b[0m \u001b[1;33m=\u001b[0m \u001b[0masyncio\u001b[0m\u001b[1;33m.\u001b[0m\u001b[0mrun\u001b[0m\u001b[1;33m(\u001b[0m\u001b[0mmain\u001b[0m\u001b[1;33m(\u001b[0m\u001b[1;33m)\u001b[0m\u001b[1;33m)\u001b[0m\u001b[1;33m\u001b[0m\u001b[1;33m\u001b[0m\u001b[0m\n\u001b[0m\u001b[0;32m     20\u001b[0m \u001b[1;33m\u001b[0m\u001b[0m\n\u001b[0;32m     21\u001b[0m \u001b[1;32mfor\u001b[0m \u001b[0mname\u001b[0m\u001b[1;33m,\u001b[0m \u001b[0mcount\u001b[0m \u001b[1;32min\u001b[0m \u001b[0martists\u001b[0m\u001b[1;33m.\u001b[0m\u001b[0mmost_common\u001b[0m\u001b[1;33m(\u001b[0m\u001b[1;36m3\u001b[0m\u001b[1;33m)\u001b[0m\u001b[1;33m:\u001b[0m\u001b[1;33m\u001b[0m\u001b[1;33m\u001b[0m\u001b[0m\n",
      "\u001b[1;32mc:\\Users\\alexc\\anaconda3\\lib\\asyncio\\runners.py\u001b[0m in \u001b[0;36mrun\u001b[1;34m(main, debug)\u001b[0m\n\u001b[0;32m     31\u001b[0m     \"\"\"\n\u001b[0;32m     32\u001b[0m     \u001b[1;32mif\u001b[0m \u001b[0mevents\u001b[0m\u001b[1;33m.\u001b[0m\u001b[0m_get_running_loop\u001b[0m\u001b[1;33m(\u001b[0m\u001b[1;33m)\u001b[0m \u001b[1;32mis\u001b[0m \u001b[1;32mnot\u001b[0m \u001b[1;32mNone\u001b[0m\u001b[1;33m:\u001b[0m\u001b[1;33m\u001b[0m\u001b[1;33m\u001b[0m\u001b[0m\n\u001b[1;32m---> 33\u001b[1;33m         raise RuntimeError(\n\u001b[0m\u001b[0;32m     34\u001b[0m             \"asyncio.run() cannot be called from a running event loop\")\n\u001b[0;32m     35\u001b[0m \u001b[1;33m\u001b[0m\u001b[0m\n",
      "\u001b[1;31mRuntimeError\u001b[0m: asyncio.run() cannot be called from a running event loop"
     ]
    }
   ],
   "source": [
    "async def count_artists(spotify: tk.Spotify, playlist_id: str):\n",
    "    tracks = await spotify.playlist_items(playlist_id)\n",
    "    tracks = spotify.all_items(tracks)\n",
    "    return Counter([get_artist(t.track) async for t in tracks])\n",
    "\n",
    "\n",
    "async def main() -> Counter:\n",
    "    sender = tk.RetryingSender(sender=tk.AsyncSender())\n",
    "    spotify = tk.Spotify(token, sender=sender, max_limits_on=True)\n",
    "\n",
    "    playlists = await spotify.followed_playlists()\n",
    "    playlists = spotify.all_items(playlists)\n",
    "    counts = [await count_artists(spotify, p.id) async for p in playlists]\n",
    "\n",
    "    await spotify.close()\n",
    "    return sum(counts, Counter())\n",
    "\n",
    "\n",
    "artists = asyncio.run(main())\n",
    "\n",
    "for name, count in artists.most_common(3):\n",
    "    print(count, name)"
   ]
  },
  {
   "cell_type": "code",
   "execution_count": null,
   "metadata": {},
   "outputs": [],
   "source": [
    "%autoawait\n",
    "result = await my_async_function()\n"
   ]
  }
 ],
 "metadata": {
  "kernelspec": {
   "display_name": "base",
   "language": "python",
   "name": "python3"
  },
  "language_info": {
   "codemirror_mode": {
    "name": "ipython",
    "version": 3
   },
   "file_extension": ".py",
   "mimetype": "text/x-python",
   "name": "python",
   "nbconvert_exporter": "python",
   "pygments_lexer": "ipython3",
   "version": "3.8.3"
  },
  "orig_nbformat": 4
 },
 "nbformat": 4,
 "nbformat_minor": 2
}
