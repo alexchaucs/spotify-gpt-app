{
 "cells": [
  {
   "attachments": {},
   "cell_type": "markdown",
   "metadata": {},
   "source": [
    "# Spotify Playlist Personalisation\n",
    "\n",
    "----"
   ]
  },
  {
   "attachments": {},
   "cell_type": "markdown",
   "metadata": {},
   "source": [
    "### 1. Set Environmental variables\n",
    "\n",
    "Use auth_example.env as a sample. Provide all 3 secrets set in your spotify developer platform\n",
    "\n",
    "* SPOTIFY_CLIENT_ID=\n",
    "* SPOTIFY_CLIENT_SECRET=\n",
    "* SPOTIFY_REDIRECT_URI=\n"
   ]
  },
  {
   "cell_type": "code",
   "execution_count": null,
   "metadata": {},
   "outputs": [],
   "source": [
    "from dotenv import load_dotenv\n",
    "\n",
    "# Load .env file\n",
    "load_dotenv()\n"
   ]
  },
  {
   "attachments": {},
   "cell_type": "markdown",
   "metadata": {},
   "source": [
    "### 2. Generate Token\n",
    "Provide call back link to generate token for use"
   ]
  },
  {
   "cell_type": "code",
   "execution_count": null,
   "metadata": {},
   "outputs": [],
   "source": [
    "import tekore as tk\n",
    "conf = tk.config_from_environment()\n",
    "token = tk.prompt_for_user_token(*conf)\n"
   ]
  },
  {
   "attachments": {},
   "cell_type": "markdown",
   "metadata": {},
   "source": [
    "### 3. Retrieving Playlist & Track Data\n",
    "\n",
    "Reference util.py for additional functionality for data pull.\n",
    "\n",
    "Utilising tekore package to interact with Spotify API.\n"
   ]
  },
  {
   "cell_type": "code",
   "execution_count": null,
   "metadata": {},
   "outputs": [],
   "source": []
  },
  {
   "cell_type": "code",
   "execution_count": null,
   "metadata": {},
   "outputs": [],
   "source": [
    "playlistTracks = []\n",
    "tasks = [get_playlist_tracks_ids(async_spotify, id) for id in playlist_ids[:5]]\n",
    "responses = await asyncio.gather(*tasks)\n",
    "for response in responses:\n",
    "    playlistTracks.extend(response)"
   ]
  },
  {
   "cell_type": "code",
   "execution_count": null,
   "metadata": {},
   "outputs": [],
   "source": [
    "playlist_ids = [playlist.id for playlist in a]"
   ]
  },
  {
   "cell_type": "code",
   "execution_count": null,
   "metadata": {},
   "outputs": [],
   "source": [
    "track_ids = await get_playlist_tracks_ids(async_spotify, playlistID='0owDaOLnhuRaxuzClvLGEP')"
   ]
  },
  {
   "cell_type": "code",
   "execution_count": null,
   "metadata": {},
   "outputs": [],
   "source": [
    "track_features = await get_tracks_audio_features(async_spotify, tracks = track_ids)\n",
    "track_features = [track.__dict__ for track in track_features if track is not None]\n"
   ]
  },
  {
   "cell_type": "code",
   "execution_count": null,
   "metadata": {},
   "outputs": [],
   "source": [
    "import dask.dataframe as dd\n",
    "import pandas as pd"
   ]
  },
  {
   "cell_type": "code",
   "execution_count": null,
   "metadata": {},
   "outputs": [],
   "source": [
    "df = pd.DataFrame(track_features)\n",
    "df.head(5)"
   ]
  },
  {
   "cell_type": "code",
   "execution_count": null,
   "metadata": {},
   "outputs": [],
   "source": [
    "features = [\n",
    "    'acousticness', \n",
    "    'danceability',\n",
    "    'energy',\n",
    "    'instrumentalness',\n",
    "    'key',\n",
    "    'liveness',\n",
    "    'loudness',\n",
    "    'mode',\n",
    "    'speechiness',\n",
    "    'tempo',\n",
    "    'time_signature',\n",
    "    'valence'\n",
    "]"
   ]
  },
  {
   "cell_type": "code",
   "execution_count": null,
   "metadata": {},
   "outputs": [],
   "source": [
    "track_features[0]\n"
   ]
  },
  {
   "cell_type": "code",
   "execution_count": null,
   "metadata": {},
   "outputs": [],
   "source": [
    "from sklearn.decomposition import PCA\n",
    "import seaborn as sns\n",
    "import matplotlib.pyplot as plt\n",
    "import seaborn as sns\n",
    "\n",
    "# Define PCA object\n",
    "pca = PCA(n_components=2)\n",
    "\n",
    "# Apply PCA\n",
    "pca_result = pca.fit_transform(df[features].values)\n",
    "\n",
    "# Create a DataFrame with the results\n",
    "df_pca = pd.DataFrame(data = pca_result, columns = ['PCA 1', 'PCA 2'])\n",
    "\n",
    "# Plot the results\n",
    "sns.scatterplot(x=\"PCA 1\", y=\"PCA 2\", data=df_pca)\n",
    "plt.show()\n"
   ]
  },
  {
   "cell_type": "code",
   "execution_count": null,
   "metadata": {},
   "outputs": [],
   "source": [
    "from sklearn.manifold import TSNE\n",
    "\n",
    "# Define TSNE object\n",
    "tsne = TSNE(n_components=2)\n",
    "\n",
    "# Apply TSNE\n",
    "tsne_result = tsne.fit_transform(df[features].values)\n",
    "\n",
    "# Create a DataFrame with the results\n",
    "df_tsne = pd.DataFrame(data = tsne_result, columns = ['TSNE 1', 'TSNE 2'])\n",
    "\n",
    "# Plot the results\n",
    "sns.scatterplot(x=\"TSNE 1\", y=\"TSNE 2\", data=df_tsne)\n",
    "plt.show()\n"
   ]
  },
  {
   "cell_type": "code",
   "execution_count": null,
   "metadata": {},
   "outputs": [],
   "source": []
  }
 ],
 "metadata": {
  "kernelspec": {
   "display_name": "base",
   "language": "python",
   "name": "python3"
  },
  "language_info": {
   "codemirror_mode": {
    "name": "ipython",
    "version": 3
   },
   "file_extension": ".py",
   "mimetype": "text/x-python",
   "name": "python",
   "nbconvert_exporter": "python",
   "pygments_lexer": "ipython3",
   "version": "3.8.3"
  },
  "orig_nbformat": 4
 },
 "nbformat": 4,
 "nbformat_minor": 2
}
