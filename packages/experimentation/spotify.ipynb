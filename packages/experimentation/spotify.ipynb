{
 "cells": [
  {
   "attachments": {},
   "cell_type": "markdown",
   "metadata": {},
   "source": [
    "# Spotify Playlist Personalisation\n",
    "\n",
    "----"
   ]
  },
  {
   "attachments": {},
   "cell_type": "markdown",
   "metadata": {},
   "source": [
    "### 1. Set Environmental variables\n",
    "\n",
    "Use auth_example.env as a sample. Provide all 3 secrets set in your spotify developer platform\n",
    "\n",
    "* SPOTIFY_CLIENT_ID=\n",
    "* SPOTIFY_CLIENT_SECRET=\n",
    "* SPOTIFY_REDIRECT_URI=\n"
   ]
  },
  {
   "cell_type": "code",
   "execution_count": 4,
   "metadata": {},
   "outputs": [
    {
     "data": {
      "text/plain": [
       "True"
      ]
     },
     "execution_count": 4,
     "metadata": {},
     "output_type": "execute_result"
    }
   ],
   "source": [
    "from dotenv import load_dotenv\n",
    "\n",
    "# Load .env file\n",
    "load_dotenv()\n"
   ]
  },
  {
   "attachments": {},
   "cell_type": "markdown",
   "metadata": {},
   "source": [
    "### 2. Generate Token\n",
    "Provide call back link to generate token for use"
   ]
  },
  {
   "cell_type": "code",
   "execution_count": 5,
   "metadata": {},
   "outputs": [
    {
     "name": "stdout",
     "output_type": "stream",
     "text": [
      "Opening browser for Spotify login...\n"
     ]
    }
   ],
   "source": [
    "import tekore as tk\n",
    "conf = tk.config_from_environment()\n",
    "token = tk.prompt_for_user_token(*conf)\n"
   ]
  },
  {
   "attachments": {},
   "cell_type": "markdown",
   "metadata": {},
   "source": [
    "### 3. Retrieving Playlist & Track Data\n",
    "\n",
    "Reference util.py for additional functionality for data pull.\n",
    "\n",
    "Utilising tekore package to interact with Spotify API.\n"
   ]
  },
  {
   "cell_type": "code",
   "execution_count": 6,
   "metadata": {},
   "outputs": [],
   "source": [
    "from util import *\n",
    "import asyncio\n",
    "import pandas as pd\n",
    "\n",
    "async_spotify = tk.Spotify(token = token, asynchronous=True)\n",
    "uri = 'spotify:user:gingerale3'\n",
    "userID = 'gingerale3'"
   ]
  },
  {
   "cell_type": "code",
   "execution_count": 7,
   "metadata": {},
   "outputs": [
    {
     "ename": "NameError",
     "evalue": "name 'util' is not defined",
     "output_type": "error",
     "traceback": [
      "\u001b[1;31m---------------------------------------------------------------------------\u001b[0m",
      "\u001b[1;31mNameError\u001b[0m                                 Traceback (most recent call last)",
      "\u001b[1;32m<ipython-input-7-8eec0c9b6881>\u001b[0m in \u001b[0;36m<module>\u001b[1;34m\u001b[0m\n\u001b[0;32m      1\u001b[0m \u001b[1;32mimport\u001b[0m \u001b[0mimportlib\u001b[0m\u001b[1;33m\u001b[0m\u001b[1;33m\u001b[0m\u001b[0m\n\u001b[1;32m----> 2\u001b[1;33m \u001b[0mimportlib\u001b[0m\u001b[1;33m.\u001b[0m\u001b[0mreload\u001b[0m\u001b[1;33m(\u001b[0m\u001b[0mutil\u001b[0m\u001b[1;33m)\u001b[0m\u001b[1;33m\u001b[0m\u001b[1;33m\u001b[0m\u001b[0m\n\u001b[0m",
      "\u001b[1;31mNameError\u001b[0m: name 'util' is not defined"
     ]
    }
   ],
   "source": [
    "import importlib\n",
    "importlib.reload(util)"
   ]
  },
  {
   "cell_type": "code",
   "execution_count": 8,
   "metadata": {},
   "outputs": [],
   "source": [
    "a = await fetch_playlists(async_spotify, userID)"
   ]
  },
  {
   "cell_type": "code",
   "execution_count": 9,
   "metadata": {},
   "outputs": [],
   "source": [
    "playlist_ids = []\n",
    "for i, playlist in enumerate(a):\n",
    "    # if playlist.owner.uri != uri:\n",
    "    #     continue\n",
    "    playlist_ids.append((playlist.id, playlist.name))"
   ]
  },
  {
   "cell_type": "code",
   "execution_count": 10,
   "metadata": {},
   "outputs": [],
   "source": [
    "async def get_playlist_tracks_ids(spotify, playlistID: str, playlistName: str):\n",
    "    playlistTracks = []\n",
    "    inital_response = await spotify.playlist_items(playlistID, limit = 1, offset = 0)\n",
    "    total = inital_response.total \n",
    "    playlistTracks.extend({\"playlistID\": playlistID, \"name\": playlistName, \"track\": item} for item in inital_response.items)\n",
    "    limit = 50\n",
    "    numOfCalls = (total - 1)//limit + 1\n",
    "\n",
    "    tasks = [spotify.playlist_items(playlistID, limit = limit, offset = 1 + limit * i) for i in range(numOfCalls)]\n",
    "    responses = await asyncio.gather(*tasks)\n",
    "    for response in responses:\n",
    "        playlistTracks.extend({\"playlistID\": playlistID, \"name\": playlistName, \"track\": item} for item in response.items)\n",
    "\n",
    "    return playlistTracks\n"
   ]
  },
  {
   "cell_type": "code",
   "execution_count": 11,
   "metadata": {},
   "outputs": [],
   "source": [
    "playlistTracks = []\n",
    "for i in range(len(playlist_ids)//3 + 1):\n",
    "    tasks = [get_playlist_tracks_ids(async_spotify, id[0], id[1]) for id in playlist_ids[i*3:(i+1)*3]]\n",
    "    responses = await asyncio.gather(*tasks)\n",
    "    for response in responses:\n",
    "        playlistTracks.extend(response)"
   ]
  },
  {
   "cell_type": "code",
   "execution_count": 12,
   "metadata": {},
   "outputs": [
    {
     "data": {
      "text/plain": [
       "2118"
      ]
     },
     "execution_count": 12,
     "metadata": {},
     "output_type": "execute_result"
    }
   ],
   "source": [
    "len(playlistTracks)"
   ]
  },
  {
   "cell_type": "code",
   "execution_count": 13,
   "metadata": {},
   "outputs": [],
   "source": [
    "# Track id and corresponding playlist\n",
    "trackId_playlist = []\n",
    "\n",
    "for tracks in playlistTracks:\n",
    "    if tracks['track'].track.id is None:\n",
    "        continue\n",
    "    trackId_playlist.append({'playlistID': tracks['playlistID'], 'playlistName': tracks['name'], 'id': tracks['track'].track.id})"
   ]
  },
  {
   "cell_type": "code",
   "execution_count": 14,
   "metadata": {},
   "outputs": [
    {
     "data": {
      "text/plain": [
       "2115"
      ]
     },
     "execution_count": 14,
     "metadata": {},
     "output_type": "execute_result"
    }
   ],
   "source": [
    "len(set([(tracks['playlistID'], tracks['track'].track.id)  for tracks in playlistTracks]))"
   ]
  },
  {
   "cell_type": "code",
   "execution_count": 15,
   "metadata": {},
   "outputs": [],
   "source": [
    "# Get all features for tracks\n",
    "track_features = await get_tracks_audio_features(async_spotify, tracks = [track['id'] for track in trackId_playlist])\n",
    "track_features = [track.__dict__ for track in track_features if track is not None]\n",
    "track_features_df = pd.DataFrame(track_features).drop_duplicates()\n",
    "df = pd.DataFrame(trackId_playlist).merge(track_features_df, on = 'id', how = 'left')\n"
   ]
  },
  {
   "cell_type": "code",
   "execution_count": 16,
   "metadata": {},
   "outputs": [
    {
     "data": {
      "text/plain": [
       "19"
      ]
     },
     "execution_count": 16,
     "metadata": {},
     "output_type": "execute_result"
    }
   ],
   "source": [
    "# Add description playlist descriptions\n",
    "len(playlist_ids)"
   ]
  },
  {
   "cell_type": "code",
   "execution_count": 17,
   "metadata": {},
   "outputs": [],
   "source": [
    "# Create consolidate dataframe"
   ]
  },
  {
   "cell_type": "code",
   "execution_count": 23,
   "metadata": {},
   "outputs": [
    {
     "name": "stderr",
     "output_type": "stream",
     "text": [
      "c:\\Users\\alexc\\anaconda3\\lib\\site-packages\\pandas\\core\\frame.py:3678: SettingWithCopyWarning: \n",
      "A value is trying to be set on a copy of a slice from a DataFrame.\n",
      "Try using .loc[row_indexer,col_indexer] = value instead\n",
      "\n",
      "See the caveats in the documentation: https://pandas.pydata.org/pandas-docs/stable/user_guide/indexing.html#returning-a-view-versus-a-copy\n",
      "  self[col] = igetitem(value, i)\n"
     ]
    }
   ],
   "source": [
    "features = [\n",
    "    'acousticness', \n",
    "    'danceability',\n",
    "    'energy',\n",
    "    'instrumentalness',\n",
    "    # 'key',\n",
    "    'liveness',\n",
    "    # 'loudness',\n",
    "    # 'mode',\n",
    "    'speechiness',\n",
    "    # 'tempo',\n",
    "    # 'time_signature',\n",
    "    'valence'\n",
    "]\n",
    "\n",
    "df_clean = df.dropna(subset=features)\n",
    "\n",
    "# ### What if i scaled the features\n",
    "from sklearn.preprocessing import MinMaxScaler\n",
    "\n",
    "scaler = MinMaxScaler()\n",
    "df_clean[features] = scaler.fit_transform(df_clean[features])"
   ]
  },
  {
   "attachments": {},
   "cell_type": "markdown",
   "metadata": {},
   "source": [
    "### Modelling"
   ]
  },
  {
   "attachments": {},
   "cell_type": "markdown",
   "metadata": {},
   "source": [
    "3 Steps\n",
    "* Feature extraction (can be expanded with more features). But for now lets use spotifys default features\n",
    "* Clustering/classification\n",
    "    *  For now lets use k means (see how can we decide how many clusters)\n",
    "* Natural language generation\n",
    "    * We'll construct a template for each label or category (as we get more data)\n",
    "    * Can evolve using a transformer or LLM trained on a relevant dataset(this/template)\n",
    "\n",
    "\n",
    "\n",
    "\n",
    "Note:\n",
    "\n",
    "Chose to cluster tracks before giving a label. Becomes from TSNE graphical nature it was clear my playlists do vary within myself. Which aligns with my assumption.\n",
    "Hence for now - perform clustering. Label the following clusters.\n",
    "\n",
    "Can look to evolve each step\n"
   ]
  },
  {
   "attachments": {},
   "cell_type": "markdown",
   "metadata": {},
   "source": [
    "### K means clustering + Elbow/Silhouette Method"
   ]
  },
  {
   "cell_type": "code",
   "execution_count": 40,
   "metadata": {},
   "outputs": [],
   "source": [
    "# Reduce Dataset to just values\n",
    "X = df_clean[features].values\n"
   ]
  },
  {
   "attachments": {},
   "cell_type": "markdown",
   "metadata": {},
   "source": [
    "Based of the graphs below, going for 9 clusters"
   ]
  },
  {
   "cell_type": "code",
   "execution_count": 72,
   "metadata": {},
   "outputs": [
    {
     "data": {
      "image/png": "[encoded data removed]",
      "text/plain": [
       "<Figure size 1080x360 with 2 Axes>"
      ]
     },
     "metadata": {
      "needs_background": "light"
     },
     "output_type": "display_data"
    }
   ],
   "source": [
    "from sklearn.cluster import KMeans\n",
    "\n",
    "wcss = [] # Within-Cluster Sum of Square\n",
    "silhouette_scores = []\n",
    "\n",
    "for i in range(1, 20):\n",
    "    kmeans = KMeans(n_clusters=i, init='k-means++', max_iter=1000, n_init=10).fit(X)\n",
    "    #Elbow Method\n",
    "    wcss.append(kmeans.inertia_)\n",
    "\n",
    "    #Silhouette\n",
    "    if i >= 2: #Requires two samples\n",
    "        label = kmeans.labels_\n",
    "        sil_coeff = silhouette_score(X, label, metric='euclidean')\n",
    "        silhouette_scores.append(sil_coeff)\n",
    "\n",
    "fig, axs = plt.subplots(1, 2, figsize=(15, 5))\n",
    "\n",
    "axs[0].plot(range(1, 20), wcss)\n",
    "axs[0].scatter(range(1, 20), wcss, color='red')\n",
    "axs[0].set_title('Elbow Method')\n",
    "axs[0].set_xlabel('Number of clusters')\n",
    "axs[0].set_ylabel('WCSS')\n",
    "# plt.show()\n",
    "\n",
    "\n",
    "\n",
    "axs[1].plot(range(2, 20), silhouette_scores)\n",
    "axs[1].scatter(range(2, 20), silhouette_scores, color='red')\n",
    "axs[1].set_title('Silhouette Method')\n",
    "axs[1].set_xlabel('Number of clusters')\n",
    "axs[1].set_ylabel('Silhouette Score')\n",
    "# plt.show()\n",
    "\n",
    "plt.tight_layout()\n",
    "plt.show()\n"
   ]
  },
  {
   "attachments": {},
   "cell_type": "markdown",
   "metadata": {},
   "source": [
    "### Chosen algo and hyperparameter\n"
   ]
  },
  {
   "cell_type": "code",
   "execution_count": 89,
   "metadata": {},
   "outputs": [
    {
     "data": {
      "text/plain": [
       "array([[0.95983929, 0.7256439 , 0.09986706, ..., 0.09965712, 0.04840666,\n",
       "        0.09483212],\n",
       "       [0.47891477, 0.71780515, 0.05734669, ..., 0.10186926, 0.01984783,\n",
       "        0.10325229],\n",
       "       [0.85843349, 0.57334826, 0.08190499, ..., 0.11071784, 0.03506451,\n",
       "        0.03841701],\n",
       "       ...,\n",
       "       [0.5823286 , 0.59798432, 0.70672106, ..., 0.09523283, 0.08479435,\n",
       "        0.2811283 ],\n",
       "       [0.02017905, 0.69092945, 0.68845455, ..., 0.08749032, 0.00661594,\n",
       "        0.57688664],\n",
       "       [0.75100359, 0.42777156, 0.47636009, ..., 0.07233713, 0.00904179,\n",
       "        0.45374171]])"
      ]
     },
     "execution_count": 89,
     "metadata": {},
     "output_type": "execute_result"
    }
   ],
   "source": []
  },
  {
   "cell_type": "code",
   "execution_count": 80,
   "metadata": {},
   "outputs": [],
   "source": [
    "kmeans = KMeans(n_clusters=9, init='k-means++', max_iter=1000, n_init=10).fit(X)"
   ]
  },
  {
   "cell_type": "code",
   "execution_count": 90,
   "metadata": {},
   "outputs": [
    {
     "data": {
      "text/plain": [
       "array([1, 3, 1, ..., 6, 8, 2])"
      ]
     },
     "execution_count": 90,
     "metadata": {},
     "output_type": "execute_result"
    }
   ],
   "source": [
    "kmeans.labels_"
   ]
  },
  {
   "attachments": {},
   "cell_type": "markdown",
   "metadata": {},
   "source": [
    "### Visualising/Describing each cluster"
   ]
  },
  {
   "cell_type": "code",
   "execution_count": null,
   "metadata": {},
   "outputs": [],
   "source": [
    "from sklearn.manifold import TSNE\n",
    "import matplotlib.pyplot as plt\n",
    "\n",
    "# Extract the features from the dataframe\n",
    "data_subset = df_clean[features].values\n",
    "\n",
    "# Perform t-SNE dimensionality reduction\n",
    "tsne = TSNE(n_components=2, verbose=1, perplexity=40, n_iter=300)\n",
    "tsne_results = tsne.fit_transform(data_subset)\n",
    "\n",
    "# Add the t-SNE results back into the dataframe\n",
    "df_clean['tsne-2d-one'] = tsne_results[:,0]\n",
    "df_clean['tsne-2d-two'] = tsne_results[:,1]\n",
    "\n",
    "# Create a plot\n",
    "plt.figure(figsize=(16,10))\n",
    "\n",
    "# Scatter plot for each playlist\n",
    "for playlist, group in df_clean.groupby('playlistName'):\n",
    "    plt.scatter(group['tsne-2d-one'], group['tsne-2d-two'], alpha=0.8, label=playlist)\n",
    "\n",
    "plt.legend()\n",
    "plt.title('t-SNE plot colored by playlistName')\n",
    "plt.xlabel('tsne-2d-one')\n",
    "plt.ylabel('tsne-2d-two')\n",
    "\n",
    "\n",
    "plt.figure(figsize=(16,10))\n",
    "\n",
    "# Scatter plot for each playlist\n",
    "for playlist, group in df_clean.groupby('playlistName'):\n",
    "    if playlist == \"Wolf Children\": #jazspazz + gingerale3 jason's chauffeur service\n",
    "        plt.scatter(group['tsne-2d-one'], group['tsne-2d-two'], alpha=0.8, label=playlist, color='blue', s=100)  # Change color and size\n",
    "    else:\n",
    "        plt.scatter(group['tsne-2d-one'], group['tsne-2d-two'], alpha=0.2, label=playlist)\n",
    "\n",
    "plt.legend()\n",
    "plt.title('t-SNE plot colored by playlistName')\n",
    "plt.xlabel('tsne-2d-one')\n",
    "plt.ylabel('tsne-2d-two')\n",
    "\n",
    "plt.show()\n",
    "\n"
   ]
  },
  {
   "cell_type": "code",
   "execution_count": 85,
   "metadata": {},
   "outputs": [
    {
     "data": {
      "text/html": [
       "<div>\n",
       "<style scoped>\n",
       "    .dataframe tbody tr th:only-of-type {\n",
       "        vertical-align: middle;\n",
       "    }\n",
       "\n",
       "    .dataframe tbody tr th {\n",
       "        vertical-align: top;\n",
       "    }\n",
       "\n",
       "    .dataframe thead th {\n",
       "        text-align: right;\n",
       "    }\n",
       "</style>\n",
       "<table border=\"1\" class=\"dataframe\">\n",
       "  <thead>\n",
       "    <tr style=\"text-align: right;\">\n",
       "      <th></th>\n",
       "      <th>playlistID</th>\n",
       "      <th>playlistName</th>\n",
       "      <th>id</th>\n",
       "      <th>acousticness</th>\n",
       "      <th>analysis_url</th>\n",
       "      <th>danceability</th>\n",
       "      <th>duration_ms</th>\n",
       "      <th>energy</th>\n",
       "      <th>instrumentalness</th>\n",
       "      <th>key</th>\n",
       "      <th>...</th>\n",
       "      <th>mode</th>\n",
       "      <th>speechiness</th>\n",
       "      <th>tempo</th>\n",
       "      <th>time_signature</th>\n",
       "      <th>track_href</th>\n",
       "      <th>type</th>\n",
       "      <th>uri</th>\n",
       "      <th>valence</th>\n",
       "      <th>tsne-2d-one</th>\n",
       "      <th>tsne-2d-two</th>\n",
       "    </tr>\n",
       "  </thead>\n",
       "  <tbody>\n",
       "    <tr>\n",
       "      <th>0</th>\n",
       "      <td>4yo2GyYfzYHT6aUIwsYaKC</td>\n",
       "      <td>Study / Sleep / Chill / Stream Lofi - DeadlyJimmy</td>\n",
       "      <td>2Q7wCNeLOaOmHvQTogMSy2</td>\n",
       "      <td>0.959839</td>\n",
       "      <td>https://api.spotify.com/v1/audio-analysis/2Q7w...</td>\n",
       "      <td>0.725644</td>\n",
       "      <td>124444.0</td>\n",
       "      <td>0.099867</td>\n",
       "      <td>0.883182</td>\n",
       "      <td>11.0</td>\n",
       "      <td>...</td>\n",
       "      <td>1.0</td>\n",
       "      <td>0.048407</td>\n",
       "      <td>81.048</td>\n",
       "      <td>4.0</td>\n",
       "      <td>https://api.spotify.com/v1/tracks/2Q7wCNeLOaOm...</td>\n",
       "      <td>audio_features</td>\n",
       "      <td>spotify:track:2Q7wCNeLOaOmHvQTogMSy2</td>\n",
       "      <td>0.094832</td>\n",
       "      <td>-4.729316</td>\n",
       "      <td>-15.845506</td>\n",
       "    </tr>\n",
       "    <tr>\n",
       "      <th>1</th>\n",
       "      <td>4yo2GyYfzYHT6aUIwsYaKC</td>\n",
       "      <td>Study / Sleep / Chill / Stream Lofi - DeadlyJimmy</td>\n",
       "      <td>2IsAHhoLXp6KXnGaUeL3zB</td>\n",
       "      <td>0.478915</td>\n",
       "      <td>https://api.spotify.com/v1/audio-analysis/2IsA...</td>\n",
       "      <td>0.717805</td>\n",
       "      <td>128000.0</td>\n",
       "      <td>0.057347</td>\n",
       "      <td>0.926485</td>\n",
       "      <td>2.0</td>\n",
       "      <td>...</td>\n",
       "      <td>0.0</td>\n",
       "      <td>0.019848</td>\n",
       "      <td>120.013</td>\n",
       "      <td>4.0</td>\n",
       "      <td>https://api.spotify.com/v1/tracks/2IsAHhoLXp6K...</td>\n",
       "      <td>audio_features</td>\n",
       "      <td>spotify:track:2IsAHhoLXp6KXnGaUeL3zB</td>\n",
       "      <td>0.103252</td>\n",
       "      <td>-8.740510</td>\n",
       "      <td>-12.526471</td>\n",
       "    </tr>\n",
       "    <tr>\n",
       "      <th>2</th>\n",
       "      <td>4yo2GyYfzYHT6aUIwsYaKC</td>\n",
       "      <td>Study / Sleep / Chill / Stream Lofi - DeadlyJimmy</td>\n",
       "      <td>3FxNrEMsJUI9T0exSfdDwb</td>\n",
       "      <td>0.858433</td>\n",
       "      <td>https://api.spotify.com/v1/audio-analysis/3FxN...</td>\n",
       "      <td>0.573348</td>\n",
       "      <td>129065.0</td>\n",
       "      <td>0.081905</td>\n",
       "      <td>0.935549</td>\n",
       "      <td>6.0</td>\n",
       "      <td>...</td>\n",
       "      <td>0.0</td>\n",
       "      <td>0.035065</td>\n",
       "      <td>69.540</td>\n",
       "      <td>4.0</td>\n",
       "      <td>https://api.spotify.com/v1/tracks/3FxNrEMsJUI9...</td>\n",
       "      <td>audio_features</td>\n",
       "      <td>spotify:track:3FxNrEMsJUI9T0exSfdDwb</td>\n",
       "      <td>0.038417</td>\n",
       "      <td>-3.658864</td>\n",
       "      <td>-16.988810</td>\n",
       "    </tr>\n",
       "    <tr>\n",
       "      <th>3</th>\n",
       "      <td>4yo2GyYfzYHT6aUIwsYaKC</td>\n",
       "      <td>Study / Sleep / Chill / Stream Lofi - DeadlyJimmy</td>\n",
       "      <td>4g9NKHADC5JzjHayUjwUdG</td>\n",
       "      <td>0.979920</td>\n",
       "      <td>https://api.spotify.com/v1/audio-analysis/4g9N...</td>\n",
       "      <td>0.723404</td>\n",
       "      <td>132923.0</td>\n",
       "      <td>0.082311</td>\n",
       "      <td>0.966767</td>\n",
       "      <td>0.0</td>\n",
       "      <td>...</td>\n",
       "      <td>1.0</td>\n",
       "      <td>0.039916</td>\n",
       "      <td>130.026</td>\n",
       "      <td>4.0</td>\n",
       "      <td>https://api.spotify.com/v1/tracks/4g9NKHADC5Jz...</td>\n",
       "      <td>audio_features</td>\n",
       "      <td>spotify:track:4g9NKHADC5JzjHayUjwUdG</td>\n",
       "      <td>0.139038</td>\n",
       "      <td>-4.563520</td>\n",
       "      <td>-15.838161</td>\n",
       "    </tr>\n",
       "    <tr>\n",
       "      <th>4</th>\n",
       "      <td>4yo2GyYfzYHT6aUIwsYaKC</td>\n",
       "      <td>Study / Sleep / Chill / Stream Lofi - DeadlyJimmy</td>\n",
       "      <td>7h3f29Vi8uuMJAQGEvzhgT</td>\n",
       "      <td>0.955823</td>\n",
       "      <td>https://api.spotify.com/v1/audio-analysis/7h3f...</td>\n",
       "      <td>0.671892</td>\n",
       "      <td>118182.0</td>\n",
       "      <td>0.041211</td>\n",
       "      <td>0.955690</td>\n",
       "      <td>4.0</td>\n",
       "      <td>...</td>\n",
       "      <td>0.0</td>\n",
       "      <td>0.011027</td>\n",
       "      <td>131.975</td>\n",
       "      <td>4.0</td>\n",
       "      <td>https://api.spotify.com/v1/tracks/7h3f29Vi8uuM...</td>\n",
       "      <td>audio_features</td>\n",
       "      <td>spotify:track:7h3f29Vi8uuMJAQGEvzhgT</td>\n",
       "      <td>0.080097</td>\n",
       "      <td>-4.291493</td>\n",
       "      <td>-16.380396</td>\n",
       "    </tr>\n",
       "    <tr>\n",
       "      <th>...</th>\n",
       "      <td>...</td>\n",
       "      <td>...</td>\n",
       "      <td>...</td>\n",
       "      <td>...</td>\n",
       "      <td>...</td>\n",
       "      <td>...</td>\n",
       "      <td>...</td>\n",
       "      <td>...</td>\n",
       "      <td>...</td>\n",
       "      <td>...</td>\n",
       "      <td>...</td>\n",
       "      <td>...</td>\n",
       "      <td>...</td>\n",
       "      <td>...</td>\n",
       "      <td>...</td>\n",
       "      <td>...</td>\n",
       "      <td>...</td>\n",
       "      <td>...</td>\n",
       "      <td>...</td>\n",
       "      <td>...</td>\n",
       "      <td>...</td>\n",
       "    </tr>\n",
       "    <tr>\n",
       "      <th>2113</th>\n",
       "      <td>7rNTlFc5wLyjbRXzwq9Ile</td>\n",
       "      <td>2015 Birth of Indie</td>\n",
       "      <td>3AraBEre6TrHoClhG3EqCE</td>\n",
       "      <td>0.384537</td>\n",
       "      <td>https://api.spotify.com/v1/audio-analysis/3Ara...</td>\n",
       "      <td>0.370661</td>\n",
       "      <td>178787.0</td>\n",
       "      <td>0.641773</td>\n",
       "      <td>0.000000</td>\n",
       "      <td>4.0</td>\n",
       "      <td>...</td>\n",
       "      <td>0.0</td>\n",
       "      <td>0.017973</td>\n",
       "      <td>126.981</td>\n",
       "      <td>4.0</td>\n",
       "      <td>https://api.spotify.com/v1/tracks/3AraBEre6TrH...</td>\n",
       "      <td>audio_features</td>\n",
       "      <td>spotify:track:3AraBEre6TrHoClhG3EqCE</td>\n",
       "      <td>0.290601</td>\n",
       "      <td>1.353285</td>\n",
       "      <td>-3.831088</td>\n",
       "    </tr>\n",
       "    <tr>\n",
       "      <th>2114</th>\n",
       "      <td>7rNTlFc5wLyjbRXzwq9Ile</td>\n",
       "      <td>2015 Birth of Indie</td>\n",
       "      <td>1MSM3Fo2fvnwVqMcz8Jhjq</td>\n",
       "      <td>0.013151</td>\n",
       "      <td>https://api.spotify.com/v1/audio-analysis/1MSM...</td>\n",
       "      <td>0.353863</td>\n",
       "      <td>223880.0</td>\n",
       "      <td>0.853868</td>\n",
       "      <td>0.000000</td>\n",
       "      <td>5.0</td>\n",
       "      <td>...</td>\n",
       "      <td>1.0</td>\n",
       "      <td>0.133311</td>\n",
       "      <td>194.000</td>\n",
       "      <td>4.0</td>\n",
       "      <td>https://api.spotify.com/v1/tracks/1MSM3Fo2fvnw...</td>\n",
       "      <td>audio_features</td>\n",
       "      <td>spotify:track:1MSM3Fo2fvnwVqMcz8Jhjq</td>\n",
       "      <td>0.221135</td>\n",
       "      <td>-9.726166</td>\n",
       "      <td>11.332402</td>\n",
       "    </tr>\n",
       "    <tr>\n",
       "      <th>2115</th>\n",
       "      <td>7rNTlFc5wLyjbRXzwq9Ile</td>\n",
       "      <td>2015 Birth of Indie</td>\n",
       "      <td>6W4GTXLYX8HkmZGmVkfrSC</td>\n",
       "      <td>0.582329</td>\n",
       "      <td>https://api.spotify.com/v1/audio-analysis/6W4G...</td>\n",
       "      <td>0.597984</td>\n",
       "      <td>245960.0</td>\n",
       "      <td>0.706721</td>\n",
       "      <td>0.277946</td>\n",
       "      <td>1.0</td>\n",
       "      <td>...</td>\n",
       "      <td>0.0</td>\n",
       "      <td>0.084794</td>\n",
       "      <td>120.927</td>\n",
       "      <td>4.0</td>\n",
       "      <td>https://api.spotify.com/v1/tracks/6W4GTXLYX8Hk...</td>\n",
       "      <td>audio_features</td>\n",
       "      <td>spotify:track:6W4GTXLYX8HkmZGmVkfrSC</td>\n",
       "      <td>0.281128</td>\n",
       "      <td>2.830638</td>\n",
       "      <td>-7.538478</td>\n",
       "    </tr>\n",
       "    <tr>\n",
       "      <th>2116</th>\n",
       "      <td>7rNTlFc5wLyjbRXzwq9Ile</td>\n",
       "      <td>2015 Birth of Indie</td>\n",
       "      <td>6MByWSkfqebVmpPw3pA1uR</td>\n",
       "      <td>0.020179</td>\n",
       "      <td>https://api.spotify.com/v1/audio-analysis/6MBy...</td>\n",
       "      <td>0.690929</td>\n",
       "      <td>186440.0</td>\n",
       "      <td>0.688455</td>\n",
       "      <td>0.016314</td>\n",
       "      <td>2.0</td>\n",
       "      <td>...</td>\n",
       "      <td>1.0</td>\n",
       "      <td>0.006616</td>\n",
       "      <td>111.037</td>\n",
       "      <td>4.0</td>\n",
       "      <td>https://api.spotify.com/v1/tracks/6MByWSkfqebV...</td>\n",
       "      <td>audio_features</td>\n",
       "      <td>spotify:track:6MByWSkfqebVmpPw3pA1uR</td>\n",
       "      <td>0.576887</td>\n",
       "      <td>2.339850</td>\n",
       "      <td>7.958677</td>\n",
       "    </tr>\n",
       "    <tr>\n",
       "      <th>2117</th>\n",
       "      <td>7rNTlFc5wLyjbRXzwq9Ile</td>\n",
       "      <td>2015 Birth of Indie</td>\n",
       "      <td>3HfSYACG5O3cio4dpHujWo</td>\n",
       "      <td>0.751004</td>\n",
       "      <td>https://api.spotify.com/v1/audio-analysis/3HfS...</td>\n",
       "      <td>0.427772</td>\n",
       "      <td>285453.0</td>\n",
       "      <td>0.476360</td>\n",
       "      <td>0.167170</td>\n",
       "      <td>10.0</td>\n",
       "      <td>...</td>\n",
       "      <td>1.0</td>\n",
       "      <td>0.009042</td>\n",
       "      <td>77.629</td>\n",
       "      <td>4.0</td>\n",
       "      <td>https://api.spotify.com/v1/tracks/3HfSYACG5O3c...</td>\n",
       "      <td>audio_features</td>\n",
       "      <td>spotify:track:3HfSYACG5O3cio4dpHujWo</td>\n",
       "      <td>0.453742</td>\n",
       "      <td>11.317220</td>\n",
       "      <td>-4.433022</td>\n",
       "    </tr>\n",
       "  </tbody>\n",
       "</table>\n",
       "<p>2117 rows × 22 columns</p>\n",
       "</div>"
      ],
      "text/plain": [
       "                  playlistID  \\\n",
       "0     4yo2GyYfzYHT6aUIwsYaKC   \n",
       "1     4yo2GyYfzYHT6aUIwsYaKC   \n",
       "2     4yo2GyYfzYHT6aUIwsYaKC   \n",
       "3     4yo2GyYfzYHT6aUIwsYaKC   \n",
       "4     4yo2GyYfzYHT6aUIwsYaKC   \n",
       "...                      ...   \n",
       "2113  7rNTlFc5wLyjbRXzwq9Ile   \n",
       "2114  7rNTlFc5wLyjbRXzwq9Ile   \n",
       "2115  7rNTlFc5wLyjbRXzwq9Ile   \n",
       "2116  7rNTlFc5wLyjbRXzwq9Ile   \n",
       "2117  7rNTlFc5wLyjbRXzwq9Ile   \n",
       "\n",
       "                                           playlistName  \\\n",
       "0     Study / Sleep / Chill / Stream Lofi - DeadlyJimmy   \n",
       "1     Study / Sleep / Chill / Stream Lofi - DeadlyJimmy   \n",
       "2     Study / Sleep / Chill / Stream Lofi - DeadlyJimmy   \n",
       "3     Study / Sleep / Chill / Stream Lofi - DeadlyJimmy   \n",
       "4     Study / Sleep / Chill / Stream Lofi - DeadlyJimmy   \n",
       "...                                                 ...   \n",
       "2113                                2015 Birth of Indie   \n",
       "2114                                2015 Birth of Indie   \n",
       "2115                                2015 Birth of Indie   \n",
       "2116                                2015 Birth of Indie   \n",
       "2117                                2015 Birth of Indie   \n",
       "\n",
       "                          id  acousticness  \\\n",
       "0     2Q7wCNeLOaOmHvQTogMSy2      0.959839   \n",
       "1     2IsAHhoLXp6KXnGaUeL3zB      0.478915   \n",
       "2     3FxNrEMsJUI9T0exSfdDwb      0.858433   \n",
       "3     4g9NKHADC5JzjHayUjwUdG      0.979920   \n",
       "4     7h3f29Vi8uuMJAQGEvzhgT      0.955823   \n",
       "...                      ...           ...   \n",
       "2113  3AraBEre6TrHoClhG3EqCE      0.384537   \n",
       "2114  1MSM3Fo2fvnwVqMcz8Jhjq      0.013151   \n",
       "2115  6W4GTXLYX8HkmZGmVkfrSC      0.582329   \n",
       "2116  6MByWSkfqebVmpPw3pA1uR      0.020179   \n",
       "2117  3HfSYACG5O3cio4dpHujWo      0.751004   \n",
       "\n",
       "                                           analysis_url  danceability  \\\n",
       "0     https://api.spotify.com/v1/audio-analysis/2Q7w...      0.725644   \n",
       "1     https://api.spotify.com/v1/audio-analysis/2IsA...      0.717805   \n",
       "2     https://api.spotify.com/v1/audio-analysis/3FxN...      0.573348   \n",
       "3     https://api.spotify.com/v1/audio-analysis/4g9N...      0.723404   \n",
       "4     https://api.spotify.com/v1/audio-analysis/7h3f...      0.671892   \n",
       "...                                                 ...           ...   \n",
       "2113  https://api.spotify.com/v1/audio-analysis/3Ara...      0.370661   \n",
       "2114  https://api.spotify.com/v1/audio-analysis/1MSM...      0.353863   \n",
       "2115  https://api.spotify.com/v1/audio-analysis/6W4G...      0.597984   \n",
       "2116  https://api.spotify.com/v1/audio-analysis/6MBy...      0.690929   \n",
       "2117  https://api.spotify.com/v1/audio-analysis/3HfS...      0.427772   \n",
       "\n",
       "      duration_ms    energy  instrumentalness   key  ...  mode  speechiness  \\\n",
       "0        124444.0  0.099867          0.883182  11.0  ...   1.0     0.048407   \n",
       "1        128000.0  0.057347          0.926485   2.0  ...   0.0     0.019848   \n",
       "2        129065.0  0.081905          0.935549   6.0  ...   0.0     0.035065   \n",
       "3        132923.0  0.082311          0.966767   0.0  ...   1.0     0.039916   \n",
       "4        118182.0  0.041211          0.955690   4.0  ...   0.0     0.011027   \n",
       "...           ...       ...               ...   ...  ...   ...          ...   \n",
       "2113     178787.0  0.641773          0.000000   4.0  ...   0.0     0.017973   \n",
       "2114     223880.0  0.853868          0.000000   5.0  ...   1.0     0.133311   \n",
       "2115     245960.0  0.706721          0.277946   1.0  ...   0.0     0.084794   \n",
       "2116     186440.0  0.688455          0.016314   2.0  ...   1.0     0.006616   \n",
       "2117     285453.0  0.476360          0.167170  10.0  ...   1.0     0.009042   \n",
       "\n",
       "        tempo  time_signature  \\\n",
       "0      81.048             4.0   \n",
       "1     120.013             4.0   \n",
       "2      69.540             4.0   \n",
       "3     130.026             4.0   \n",
       "4     131.975             4.0   \n",
       "...       ...             ...   \n",
       "2113  126.981             4.0   \n",
       "2114  194.000             4.0   \n",
       "2115  120.927             4.0   \n",
       "2116  111.037             4.0   \n",
       "2117   77.629             4.0   \n",
       "\n",
       "                                             track_href            type  \\\n",
       "0     https://api.spotify.com/v1/tracks/2Q7wCNeLOaOm...  audio_features   \n",
       "1     https://api.spotify.com/v1/tracks/2IsAHhoLXp6K...  audio_features   \n",
       "2     https://api.spotify.com/v1/tracks/3FxNrEMsJUI9...  audio_features   \n",
       "3     https://api.spotify.com/v1/tracks/4g9NKHADC5Jz...  audio_features   \n",
       "4     https://api.spotify.com/v1/tracks/7h3f29Vi8uuM...  audio_features   \n",
       "...                                                 ...             ...   \n",
       "2113  https://api.spotify.com/v1/tracks/3AraBEre6TrH...  audio_features   \n",
       "2114  https://api.spotify.com/v1/tracks/1MSM3Fo2fvnw...  audio_features   \n",
       "2115  https://api.spotify.com/v1/tracks/6W4GTXLYX8Hk...  audio_features   \n",
       "2116  https://api.spotify.com/v1/tracks/6MByWSkfqebV...  audio_features   \n",
       "2117  https://api.spotify.com/v1/tracks/3HfSYACG5O3c...  audio_features   \n",
       "\n",
       "                                       uri   valence tsne-2d-one  tsne-2d-two  \n",
       "0     spotify:track:2Q7wCNeLOaOmHvQTogMSy2  0.094832   -4.729316   -15.845506  \n",
       "1     spotify:track:2IsAHhoLXp6KXnGaUeL3zB  0.103252   -8.740510   -12.526471  \n",
       "2     spotify:track:3FxNrEMsJUI9T0exSfdDwb  0.038417   -3.658864   -16.988810  \n",
       "3     spotify:track:4g9NKHADC5JzjHayUjwUdG  0.139038   -4.563520   -15.838161  \n",
       "4     spotify:track:7h3f29Vi8uuMJAQGEvzhgT  0.080097   -4.291493   -16.380396  \n",
       "...                                    ...       ...         ...          ...  \n",
       "2113  spotify:track:3AraBEre6TrHoClhG3EqCE  0.290601    1.353285    -3.831088  \n",
       "2114  spotify:track:1MSM3Fo2fvnwVqMcz8Jhjq  0.221135   -9.726166    11.332402  \n",
       "2115  spotify:track:6W4GTXLYX8HkmZGmVkfrSC  0.281128    2.830638    -7.538478  \n",
       "2116  spotify:track:6MByWSkfqebVmpPw3pA1uR  0.576887    2.339850     7.958677  \n",
       "2117  spotify:track:3HfSYACG5O3cio4dpHujWo  0.453742   11.317220    -4.433022  \n",
       "\n",
       "[2117 rows x 22 columns]"
      ]
     },
     "execution_count": 85,
     "metadata": {},
     "output_type": "execute_result"
    }
   ],
   "source": [
    "df_clean"
   ]
  },
  {
   "cell_type": "code",
   "execution_count": 84,
   "metadata": {},
   "outputs": [
    {
     "data": {
      "text/plain": [
       "array([1, 3, 1, ..., 6, 8, 2])"
      ]
     },
     "execution_count": 84,
     "metadata": {},
     "output_type": "execute_result"
    }
   ],
   "source": [
    "kmeans.labels_"
   ]
  },
  {
   "cell_type": "code",
   "execution_count": 76,
   "metadata": {},
   "outputs": [
    {
     "data": {
      "text/plain": [
       "KMeans(max_iter=1000, n_clusters=9)"
      ]
     },
     "execution_count": 76,
     "metadata": {},
     "output_type": "execute_result"
    }
   ],
   "source": [
    "kmeans"
   ]
  },
  {
   "cell_type": "code",
   "execution_count": null,
   "metadata": {},
   "outputs": [],
   "source": []
  }
 ],
 "metadata": {
  "kernelspec": {
   "display_name": "base",
   "language": "python",
   "name": "python3"
  },
  "language_info": {
   "codemirror_mode": {
    "name": "ipython",
    "version": 3
   },
   "file_extension": ".py",
   "mimetype": "text/x-python",
   "name": "python",
   "nbconvert_exporter": "python",
   "pygments_lexer": "ipython3",
   "version": "3.8.3"
  },
  "orig_nbformat": 4
 },
 "nbformat": 4,
 "nbformat_minor": 2
}
