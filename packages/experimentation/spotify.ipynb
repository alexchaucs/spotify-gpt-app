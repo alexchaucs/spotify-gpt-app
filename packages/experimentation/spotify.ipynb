{
 "cells": [
  {
   "attachments": {},
   "cell_type": "markdown",
   "metadata": {},
   "source": [
    "https://tekore.readthedocs.io/en/stable/reference/client.html#playlist-api\n",
    "\n",
    "\n",
    "* Spotify.playlist_change_details: Change a playlist's details.\n",
    "* Spotify.playlists: Get a list of the playlists owned or followed by a user.\n",
    "* Spotify.playlist_cover_image: Get cover image of a playlist.\n",
    "* Spotify.playlist_cover_image_upload: Upload a custom playlist cover image.\n",
    "* Spotify.playlist_items: Full details of items on a playlist.\n"
   ]
  },
  {
   "cell_type": "code",
   "execution_count": null,
   "metadata": {},
   "outputs": [],
   "source": [
    "import tekore as tk\n",
    "conf = tk.config_from_environment()\n",
    "token = tk.prompt_for_user_token(*conf)\n",
    "spotify = tk.Spotify(token)\n"
   ]
  },
  {
   "cell_type": "code",
   "execution_count": null,
   "metadata": {},
   "outputs": [],
   "source": [
    "import asyncio\n",
    "import tekore as tk\n",
    "\n",
    "async def fetch_playlists(spotify: tk.Spotify, userID: str):\n",
    "    playlists = []\n",
    "    inital_response = await spotify.playlists(userID, limit = 1, offset = 0)\n",
    "    total = inital_response.total \n",
    "    playlists.extend(inital_response.items)\n",
    "    limit = 10\n",
    "    numOfCalls = (total - 1)//limit + 1\n",
    "    \n",
    "    tasks = [spotify.playlists(user_id=userID, limit = limit, offset = 1 + limit * i) for i in range(numOfCalls)]\n",
    "    responses = await asyncio.gather(*tasks)\n",
    "    for response in responses:\n",
    "        playlists.extend(response.items)\n",
    "\n",
    "    return playlists\n",
    "\n"
   ]
  },
  {
   "cell_type": "code",
   "execution_count": null,
   "metadata": {},
   "outputs": [],
   "source": [
    "async_spotify = tk.Spotify(token, asynchronous=True)\n",
    "a = await fetch_playlists(async_spotify, 'gingerale3')\n"
   ]
  },
  {
   "cell_type": "code",
   "execution_count": null,
   "metadata": {},
   "outputs": [],
   "source": [
    "for i in range(len(a)):\n",
    "    print({a[i].name, a[i].description, a[i].images[0].url})"
   ]
  }
 ],
 "metadata": {
  "kernelspec": {
   "display_name": "base",
   "language": "python",
   "name": "python3"
  },
  "language_info": {
   "codemirror_mode": {
    "name": "ipython",
    "version": 3
   },
   "file_extension": ".py",
   "mimetype": "text/x-python",
   "name": "python",
   "nbconvert_exporter": "python",
   "pygments_lexer": "ipython3",
   "version": "3.8.3"
  },
  "orig_nbformat": 4
 },
 "nbformat": 4,
 "nbformat_minor": 2
}
